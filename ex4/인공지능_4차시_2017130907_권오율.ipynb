{
 "cells": [
  {
   "cell_type": "markdown",
   "metadata": {
    "id": "v0XJQi1fFyUh"
   },
   "source": [
    "# 2022 COSE361 실습 4차시- Machine learning 2\n",
    "\n",
    "<과제 제출방법>\n",
    "\n",
    "1.   제목 끝에 학번과 이름을 추가합니다. 예시) 인공지능_4차시_20XXXXXXXX_이름\n",
    "2.   주피터노트북의 모든 코드가 오류없이 돌아가도록 실습 활동을 완료합니다.\n",
    "3.   모든 셀이 출력되어있는 상태로 제출합니다\n",
    "-------------------------------------------------------------------------------------------------------------------\n",
    "\n",
    "본 실습은 아래와 같이 이루어져있습니다.\n",
    "1. Perceptron\n",
    "    - XOR problem\n",
    "    \n",
    "2. MLP    \n",
    "    - XOR problem\n",
    "    \n",
    "    -  bread cancer data\n",
    "        - Cross validation\n",
    "        - Gridsearchcv\n",
    "3. 과제"
   ]
  },
  {
   "cell_type": "markdown",
   "metadata": {
    "id": "HNNGYyQl4-3y"
   },
   "source": [
    "# **1. Perceptron**\n",
    "\n",
    "퍼셉트론은 신경망의 가장 기초가 되는 기본 단위입니다.\n",
    "\n",
    "자세히 보면 \"퍼셉트론(Perceptron)\"이라는 단어는 두 단어의 조합임을 알 수 있습니다.\n",
    "\n",
    "* Perception 무엇인가를 감지할 수 있는 능력\n",
    "* Neuron 사람의 뇌에 주어지는 입력을 의미있는 정보로 변환하는 신경 세포\n",
    "\n",
    "### **퍼셉트론(Perceptron)의 구성 요소**\n",
    "\n",
    "퍼셉트론은 간단한 결정을 내릴 수 있는 인공 뉴런이라고 할 수 있습니다.\n",
    "\n",
    "퍼셉트론은 3가지 구성요소로 이루어져 있습니다.\n",
    "\n",
    "* 입력(Inputs): 각각의 입력 값은 feature에 대응합니다. \n",
    "\n",
    "* 가중치(Weights): 각 입력은, 중요도를 나타내는 가중치를 가지고 있습니다. 입력의 가중치가 크다는 것은, 결정을 내림에 있어서 해당 입력값이 중요한 역할을 하고 있다는 것을 의미합니다.\n",
    "\n",
    "* 출력(Output): 마지막으로, 퍼셉트론은 입력과 가중치를 사용하여 출력을 생성합니다. 출력 유형은 문제의 특성 및 데이터 도메인에 따라 다릅니다. 참과 거짓을 해결해야하는 문제(Classification)라면 0 또는 1로 출력값을 나타내야할 것이고, 만약 결과값이 연속된 수치(Regression)라면 정수로 결과값을 표현할 수 있어야할 것입니다.\n",
    "\n",
    "![Perceptron](http://incredible.ai/assets/posts/Perceptron/perceptron.png)\n",
    "\n",
    "이제, perceptron으로 AND OR XOR 데이터를 분류해보도록 합시다. "
   ]
  },
  {
   "cell_type": "markdown",
   "metadata": {},
   "source": [
    "#  XOR problem\n",
    "\n",
    "![](https://img1.daumcdn.net/thumb/R800x0/?scode=mtistory2&fname=https%3A%2F%2Fblog.kakaocdn.net%2Fdn%2FsEm4q%2FbtqHemtBDX5%2FxKv8Pa7Pj1Gw5WPBhUHKY0%2Fimg.png)"
   ]
  },
  {
   "cell_type": "markdown",
   "metadata": {
    "id": "8f1_3bj-HetM"
   },
   "source": [
    "AND, OR, XOR 데이터에 대해 Perceptron으로 분류해보도록 하겠습니다. 시각화를 도와주는 utils.py를 사용하도록 할 것입니다. import해주고 실험을 진행하도록 하겠습니다."
   ]
  },
  {
   "cell_type": "code",
   "execution_count": 1,
   "metadata": {},
   "outputs": [],
   "source": [
    "#제공된 utils import\n",
    "from utils import *\n",
    "#numpy import\n",
    "import numpy as np\n",
    "#sklearn에서 제공해주는 Perceptron import\n",
    "from sklearn.linear_model import Perceptron"
   ]
  },
  {
   "cell_type": "markdown",
   "metadata": {
    "id": "F_kv-z3sIDau"
   },
   "source": [
    "## 1-1. AND 데이터"
   ]
  },
  {
   "cell_type": "code",
   "execution_count": 2,
   "metadata": {
    "id": "vdSVwZX73PsB"
   },
   "outputs": [],
   "source": [
    "#AND 데이터를 생성합니다.\n",
    "and_data = np.array([[0, 0], [1, 0], [0, 1], [1, 1]])\n",
    "#and label \n",
    "and_labels = np.array([0, 0, 0, 1])"
   ]
  },
  {
   "cell_type": "code",
   "execution_count": 3,
   "metadata": {
    "id": "j38lez--3csQ"
   },
   "outputs": [
    {
     "data": {
      "image/png": "[encoded data removed]",
      "text/plain": [
       "<Figure size 432x288 with 1 Axes>"
      ]
     },
     "metadata": {
      "needs_background": "light"
     },
     "output_type": "display_data"
    }
   ],
   "source": [
    "#utils에서 제공되는 plot_data 사용하여 AND데이터를 plot해봅시다\n",
    "plot_data(and_data, and_labels)"
   ]
  },
  {
   "cell_type": "code",
   "execution_count": 4,
   "metadata": {
    "id": "YbcULymC4Urx"
   },
   "outputs": [
    {
     "data": {
      "text/plain": [
       "Perceptron()"
      ]
     },
     "execution_count": 4,
     "metadata": {},
     "output_type": "execute_result"
    }
   ],
   "source": [
    "#perceptron을 AND 데이터에 대하여 훈련시킵니다.\n",
    "perceptron_and = Perceptron()\n",
    "perceptron_and.fit(and_data, and_labels)"
   ]
  },
  {
   "cell_type": "code",
   "execution_count": 5,
   "metadata": {
    "id": "k50ZVb5t4kCa"
   },
   "outputs": [
    {
     "data": {
      "text/plain": [
       "1.0"
      ]
     },
     "execution_count": 5,
     "metadata": {},
     "output_type": "execute_result"
    }
   ],
   "source": [
    "perceptron_and.score(and_data, and_labels)"
   ]
  },
  {
   "cell_type": "code",
   "execution_count": 6,
   "metadata": {},
   "outputs": [
    {
     "name": "stdout",
     "output_type": "stream",
     "text": [
      "Perceptron's AND scores: [-2.  0.  0.  2.]\n"
     ]
    }
   ],
   "source": [
    "#perceptron의 AND score들을 출력합니다.\n",
    "pred_scores = perceptron_and.decision_function(and_data)\n",
    "print(\"Perceptron's AND scores: {}\".format(pred_scores))"
   ]
  },
  {
   "cell_type": "markdown",
   "metadata": {},
   "source": [
    "이제, Perceptron의 decision boundary를 플롯해봅시다. 왼쪽의 색상 막대는 w b x + b로 얻은 점수를 나타냅니다. 각 점 색상은 다른 클래스를 나타냅니다. (blue = 1, red = 0)."
   ]
  },
  {
   "cell_type": "code",
   "execution_count": 7,
   "metadata": {
    "id": "dNQoBEzYF4WW",
    "scrolled": true
   },
   "outputs": [
    {
     "data": {
      "image/png": "[encoded data removed]",
      "text/plain": [
       "<Figure size 432x288 with 2 Axes>"
      ]
     },
     "metadata": {
      "needs_background": "light"
     },
     "output_type": "display_data"
    }
   ],
   "source": [
    "# colobar는 wx+b로 얻은 score를 나타냅니다.\n",
    "plot_decision_boundary(perceptron_and, and_data, and_labels, \"perceptron AND\")"
   ]
  },
  {
   "cell_type": "markdown",
   "metadata": {
    "id": "M1sVgwNiJXz7"
   },
   "source": [
    "## 1-2. OR 데이터\n",
    "AND와 마찬가지로 or데이터를 생성하여 perceptron으로 분류하도록 훈련시키도록 하겠습니다."
   ]
  },
  {
   "cell_type": "code",
   "execution_count": 8,
   "metadata": {
    "id": "zJUq2Q6q8th4"
   },
   "outputs": [],
   "source": [
    "#or 데이터 생성\n",
    "or_data = np.array([[0, 0], [1, 0], [0, 1], [1, 1]])\n",
    "or_labels = np.array([0, 1, 1, 1])"
   ]
  },
  {
   "cell_type": "code",
   "execution_count": 9,
   "metadata": {},
   "outputs": [
    {
     "data": {
      "image/png": "[encoded data removed]",
      "text/plain": [
       "<Figure size 432x288 with 1 Axes>"
      ]
     },
     "metadata": {
      "needs_background": "light"
     },
     "output_type": "display_data"
    }
   ],
   "source": [
    "#utils에서 제공되는 plot_data 사용하여 OR데이터를 plot해봅시다\n",
    "plot_data(or_data, or_labels)"
   ]
  },
  {
   "cell_type": "code",
   "execution_count": 10,
   "metadata": {
    "id": "-MN3md1F8tlT"
   },
   "outputs": [
    {
     "data": {
      "text/plain": [
       "Perceptron()"
      ]
     },
     "execution_count": 10,
     "metadata": {},
     "output_type": "execute_result"
    }
   ],
   "source": [
    "#or 데이터 훈련\n",
    "perceptron_or = Perceptron()\n",
    "perceptron_or.fit(or_data, or_labels)"
   ]
  },
  {
   "cell_type": "code",
   "execution_count": 11,
   "metadata": {},
   "outputs": [
    {
     "name": "stdout",
     "output_type": "stream",
     "text": [
      "Perceptron's OR scores: [-1.  1.  1.  3.]\n"
     ]
    }
   ],
   "source": [
    "#perceptron의 OR score들을 출력합니다.\n",
    "pred_scores = perceptron_or.decision_function(or_data)\n",
    "print(\"Perceptron's OR scores: {}\".format(pred_scores))"
   ]
  },
  {
   "cell_type": "code",
   "execution_count": 12,
   "metadata": {},
   "outputs": [
    {
     "data": {
      "text/plain": [
       "1.0"
      ]
     },
     "execution_count": 12,
     "metadata": {},
     "output_type": "execute_result"
    }
   ],
   "source": [
    "perceptron_or.score(or_data, or_labels)"
   ]
  },
  {
   "cell_type": "code",
   "execution_count": 13,
   "metadata": {},
   "outputs": [
    {
     "data": {
      "image/png": "[encoded data removed]",
      "text/plain": [
       "<Figure size 432x288 with 2 Axes>"
      ]
     },
     "metadata": {
      "needs_background": "light"
     },
     "output_type": "display_data"
    }
   ],
   "source": [
    "# colobar는 wx+b로 얻은 score를 나타냅니다.\n",
    "plot_decision_boundary(perceptron_or, or_data, or_labels, \"perceptron OR\")"
   ]
  },
  {
   "cell_type": "markdown",
   "metadata": {
    "id": "9yMgBxlnJsmE"
   },
   "source": [
    "## 1.3 XOR 데이터\n",
    "AND와 OR과 마찬가지로 XOR데이터에 대해서도 perceptron이 분류를 잘 할 수 있는지를 확인해보도록 하겠습니다."
   ]
  },
  {
   "cell_type": "code",
   "execution_count": 14,
   "metadata": {
    "id": "uM-GfPWZ8wbW"
   },
   "outputs": [],
   "source": [
    "#xor 데이터 생성\n",
    "xor_data = np.array([[0, 0], [1, 0], [0, 1], [1, 1]])\n",
    "xor_labels = np.array([0, 1, 1, 0])"
   ]
  },
  {
   "cell_type": "code",
   "execution_count": 15,
   "metadata": {
    "id": "AQmDVl198zAj"
   },
   "outputs": [
    {
     "data": {
      "image/png": "[encoded data removed]",
      "text/plain": [
       "<Figure size 432x288 with 1 Axes>"
      ]
     },
     "metadata": {
      "needs_background": "light"
     },
     "output_type": "display_data"
    }
   ],
   "source": [
    "plot_data(xor_data, xor_labels)"
   ]
  },
  {
   "cell_type": "markdown",
   "metadata": {},
   "source": [
    "명확하게, XOR은 선을 그어 구분 할 수 없음을 알 수 있습니다. 그래도 Perceptron으로 분류하도록 훈련시켜보도록 하겠습니다."
   ]
  },
  {
   "cell_type": "code",
   "execution_count": 16,
   "metadata": {},
   "outputs": [
    {
     "data": {
      "text/plain": [
       "Perceptron()"
      ]
     },
     "execution_count": 16,
     "metadata": {},
     "output_type": "execute_result"
    }
   ],
   "source": [
    "perceptron_xor = Perceptron()\n",
    "perceptron_xor.fit(xor_data, xor_labels)"
   ]
  },
  {
   "cell_type": "code",
   "execution_count": 17,
   "metadata": {},
   "outputs": [
    {
     "data": {
      "text/plain": [
       "0.5"
      ]
     },
     "execution_count": 17,
     "metadata": {},
     "output_type": "execute_result"
    }
   ],
   "source": [
    "perceptron_xor.score(xor_data, xor_labels)"
   ]
  },
  {
   "cell_type": "code",
   "execution_count": 18,
   "metadata": {},
   "outputs": [
    {
     "data": {
      "image/png": "[encoded data removed]",
      "text/plain": [
       "<Figure size 432x288 with 2 Axes>"
      ]
     },
     "metadata": {
      "needs_background": "light"
     },
     "output_type": "display_data"
    }
   ],
   "source": [
    "plot_decision_boundary(perceptron_xor, xor_data, xor_labels, \"perceptron XOR\")"
   ]
  },
  {
   "cell_type": "markdown",
   "metadata": {},
   "source": [
    "XOR의 decision boundary가 없는 것을 확인 할 수 있습니다. 이제 Perceptron 모델 대신, MLPClassifier을 사용하여 XOR 데이터를 분류해보겠습니다. 아래 네 단계를 수행합니다."
   ]
  },
  {
   "cell_type": "markdown",
   "metadata": {},
   "source": [
    "\n",
    "\n",
    "# 2. Multi-layer Perceptron(MLP)\n",
    "\n",
    "MLP는 입력층, 은닉층 및 출력층의 적어도 3개의 다른 층으로 구성된 뉴럴 네트워크입니다. 입력층을 제외한 나머지 층은 non-linaer activation function(ex: Sigmoid 또는 tanh)를 가진 Perceptron에 의해 구성됩니다. MLP는 보통 역전파 알고리즘을 사용하여 훈련되며 선형적으로 분리할 수 없는 문제에 대처할 수 있습니다. \n",
    "\n",
    "아래 애니메이션은 MLP가 훈련되는 과정을 간략하게 보여줍니다.\n",
    "\n",
    "![](https://953894.smushcdn.com/2611031/wp-content/uploads/2019/10/Backpropagation.gif?lossy=0&strip=1&webp=1)\n",
    "\n",
    "\n",
    "## 2-1 MLP XOR problem\n",
    "이제 scikit-learn에서 제공해주는 MLPClassifier 메서드를 사용하여 XOR문제를 해결해보도록 하겠습니다.\n",
    "\n",
    "1. scikit-learn의 MLPClassifier 모델을 생성하고 (모델의 이름은 ```mlp_xor```)합니다. 모델 파라미터는 다음과 같습니다. [다큐멘테이션](https://scikit-learn.org/stable/modules/generated/sklearn.neural_network.MLPClassifier.html)\n",
    "\n",
    "    - ```hidden_layer_sizes```: ```(5, )```\n",
    "    - ```activation```: ```'tanh'```\n",
    "    - ```max_iter``` : ```10000```\n",
    "\n",
    "2. 생성된 모델을 데이터에 ```.fit()```해봅니다. \n",
    "3. ```.score()```로 데이터에 대해 정확도를 출력합니다.\n",
    "4. ```plot_decision_boundary()``` 함수를 사용하여 훈련된 perceptron의 decision boundary를 시각화하고 **시각화된 plot을 바탕으로 올바르게 분류가 되었는지를 확인합니다.**."
   ]
  },
  {
   "cell_type": "code",
   "execution_count": 19,
   "metadata": {},
   "outputs": [
    {
     "data": {
      "text/plain": [
       "MLPClassifier(activation='tanh', hidden_layer_sizes=(5,), max_iter=10000)"
      ]
     },
     "execution_count": 19,
     "metadata": {},
     "output_type": "execute_result"
    }
   ],
   "source": [
    "#import MLPClassifier\n",
    "from sklearn.neural_network import MLPClassifier\n",
    "mlp_xor = MLPClassifier(hidden_layer_sizes=(5, ), activation='tanh', max_iter=10000)\n",
    "mlp_xor.fit(xor_data, xor_labels)"
   ]
  },
  {
   "cell_type": "code",
   "execution_count": 20,
   "metadata": {},
   "outputs": [
    {
     "data": {
      "text/plain": [
       "1.0"
      ]
     },
     "execution_count": 20,
     "metadata": {},
     "output_type": "execute_result"
    }
   ],
   "source": [
    "mlp_xor.score(xor_data, xor_labels)"
   ]
  },
  {
   "cell_type": "code",
   "execution_count": 21,
   "metadata": {},
   "outputs": [
    {
     "data": {
      "image/png": "[encoded data removed]",
      "text/plain": [
       "<Figure size 432x288 with 2 Axes>"
      ]
     },
     "metadata": {
      "needs_background": "light"
     },
     "output_type": "display_data"
    }
   ],
   "source": [
    "plot_decision_boundary(mlp_xor, xor_data, xor_labels, \"MLP XOR\")"
   ]
  },
  {
   "cell_type": "markdown",
   "metadata": {},
   "source": [
    "decision boundary를 제대로 잘 설정한것을 볼 수 있습니다. 이로써, MLP는 선형적으로 분리할 수 없는 문제에 대처할 수 있음을 알 수 있습니다."
   ]
  },
  {
   "cell_type": "markdown",
   "metadata": {
    "id": "z8Tz8qS4zvc8"
   },
   "source": [
    "# 2-2 bread cancer \n",
    "\n",
    "이제 다른 복잡한 데이터를 사용하여 MLPClassifier을 훈련시키도록 해봅시다.\n",
    "\n",
    "본 실습에서는bread cancer 데이터를 사용하도록 하겠습니다.\n"
   ]
  },
  {
   "cell_type": "code",
   "execution_count": 22,
   "metadata": {},
   "outputs": [],
   "source": [
    "from sklearn.neural_network import MLPClassifier\n",
    "from sklearn.model_selection import train_test_split\n",
    "import numpy as np\n",
    "import pandas as pd"
   ]
  },
  {
   "cell_type": "code",
   "execution_count": 23,
   "metadata": {},
   "outputs": [
    {
     "data": {
      "text/html": [
       "<div>\n",
       "<style scoped>\n",
       "    .dataframe tbody tr th:only-of-type {\n",
       "        vertical-align: middle;\n",
       "    }\n",
       "\n",
       "    .dataframe tbody tr th {\n",
       "        vertical-align: top;\n",
       "    }\n",
       "\n",
       "    .dataframe thead th {\n",
       "        text-align: right;\n",
       "    }\n",
       "</style>\n",
       "<table border=\"1\" class=\"dataframe\">\n",
       "  <thead>\n",
       "    <tr style=\"text-align: right;\">\n",
       "      <th></th>\n",
       "      <th>id</th>\n",
       "      <th>diagnosis</th>\n",
       "      <th>radius_mean</th>\n",
       "      <th>texture_mean</th>\n",
       "      <th>perimeter_mean</th>\n",
       "      <th>area_mean</th>\n",
       "      <th>smoothness_mean</th>\n",
       "      <th>compactness_mean</th>\n",
       "      <th>concavity_mean</th>\n",
       "      <th>concave points_mean</th>\n",
       "      <th>...</th>\n",
       "      <th>texture_worst</th>\n",
       "      <th>perimeter_worst</th>\n",
       "      <th>area_worst</th>\n",
       "      <th>smoothness_worst</th>\n",
       "      <th>compactness_worst</th>\n",
       "      <th>concavity_worst</th>\n",
       "      <th>concave points_worst</th>\n",
       "      <th>symmetry_worst</th>\n",
       "      <th>fractal_dimension_worst</th>\n",
       "      <th>Unnamed: 32</th>\n",
       "    </tr>\n",
       "  </thead>\n",
       "  <tbody>\n",
       "    <tr>\n",
       "      <th>0</th>\n",
       "      <td>842302</td>\n",
       "      <td>M</td>\n",
       "      <td>17.99</td>\n",
       "      <td>10.38</td>\n",
       "      <td>122.80</td>\n",
       "      <td>1001.0</td>\n",
       "      <td>0.11840</td>\n",
       "      <td>0.27760</td>\n",
       "      <td>0.3001</td>\n",
       "      <td>0.14710</td>\n",
       "      <td>...</td>\n",
       "      <td>17.33</td>\n",
       "      <td>184.60</td>\n",
       "      <td>2019.0</td>\n",
       "      <td>0.1622</td>\n",
       "      <td>0.6656</td>\n",
       "      <td>0.7119</td>\n",
       "      <td>0.2654</td>\n",
       "      <td>0.4601</td>\n",
       "      <td>0.11890</td>\n",
       "      <td>NaN</td>\n",
       "    </tr>\n",
       "    <tr>\n",
       "      <th>1</th>\n",
       "      <td>842517</td>\n",
       "      <td>M</td>\n",
       "      <td>20.57</td>\n",
       "      <td>17.77</td>\n",
       "      <td>132.90</td>\n",
       "      <td>1326.0</td>\n",
       "      <td>0.08474</td>\n",
       "      <td>0.07864</td>\n",
       "      <td>0.0869</td>\n",
       "      <td>0.07017</td>\n",
       "      <td>...</td>\n",
       "      <td>23.41</td>\n",
       "      <td>158.80</td>\n",
       "      <td>1956.0</td>\n",
       "      <td>0.1238</td>\n",
       "      <td>0.1866</td>\n",
       "      <td>0.2416</td>\n",
       "      <td>0.1860</td>\n",
       "      <td>0.2750</td>\n",
       "      <td>0.08902</td>\n",
       "      <td>NaN</td>\n",
       "    </tr>\n",
       "    <tr>\n",
       "      <th>2</th>\n",
       "      <td>84300903</td>\n",
       "      <td>M</td>\n",
       "      <td>19.69</td>\n",
       "      <td>21.25</td>\n",
       "      <td>130.00</td>\n",
       "      <td>1203.0</td>\n",
       "      <td>0.10960</td>\n",
       "      <td>0.15990</td>\n",
       "      <td>0.1974</td>\n",
       "      <td>0.12790</td>\n",
       "      <td>...</td>\n",
       "      <td>25.53</td>\n",
       "      <td>152.50</td>\n",
       "      <td>1709.0</td>\n",
       "      <td>0.1444</td>\n",
       "      <td>0.4245</td>\n",
       "      <td>0.4504</td>\n",
       "      <td>0.2430</td>\n",
       "      <td>0.3613</td>\n",
       "      <td>0.08758</td>\n",
       "      <td>NaN</td>\n",
       "    </tr>\n",
       "    <tr>\n",
       "      <th>3</th>\n",
       "      <td>84348301</td>\n",
       "      <td>M</td>\n",
       "      <td>11.42</td>\n",
       "      <td>20.38</td>\n",
       "      <td>77.58</td>\n",
       "      <td>386.1</td>\n",
       "      <td>0.14250</td>\n",
       "      <td>0.28390</td>\n",
       "      <td>0.2414</td>\n",
       "      <td>0.10520</td>\n",
       "      <td>...</td>\n",
       "      <td>26.50</td>\n",
       "      <td>98.87</td>\n",
       "      <td>567.7</td>\n",
       "      <td>0.2098</td>\n",
       "      <td>0.8663</td>\n",
       "      <td>0.6869</td>\n",
       "      <td>0.2575</td>\n",
       "      <td>0.6638</td>\n",
       "      <td>0.17300</td>\n",
       "      <td>NaN</td>\n",
       "    </tr>\n",
       "    <tr>\n",
       "      <th>4</th>\n",
       "      <td>84358402</td>\n",
       "      <td>M</td>\n",
       "      <td>20.29</td>\n",
       "      <td>14.34</td>\n",
       "      <td>135.10</td>\n",
       "      <td>1297.0</td>\n",
       "      <td>0.10030</td>\n",
       "      <td>0.13280</td>\n",
       "      <td>0.1980</td>\n",
       "      <td>0.10430</td>\n",
       "      <td>...</td>\n",
       "      <td>16.67</td>\n",
       "      <td>152.20</td>\n",
       "      <td>1575.0</td>\n",
       "      <td>0.1374</td>\n",
       "      <td>0.2050</td>\n",
       "      <td>0.4000</td>\n",
       "      <td>0.1625</td>\n",
       "      <td>0.2364</td>\n",
       "      <td>0.07678</td>\n",
       "      <td>NaN</td>\n",
       "    </tr>\n",
       "  </tbody>\n",
       "</table>\n",
       "<p>5 rows × 33 columns</p>\n",
       "</div>"
      ],
      "text/plain": [
       "         id diagnosis  radius_mean  texture_mean  perimeter_mean  area_mean  \\\n",
       "0    842302         M        17.99         10.38          122.80     1001.0   \n",
       "1    842517         M        20.57         17.77          132.90     1326.0   \n",
       "2  84300903         M        19.69         21.25          130.00     1203.0   \n",
       "3  84348301         M        11.42         20.38           77.58      386.1   \n",
       "4  84358402         M        20.29         14.34          135.10     1297.0   \n",
       "\n",
       "   smoothness_mean  compactness_mean  concavity_mean  concave points_mean  \\\n",
       "0          0.11840           0.27760          0.3001              0.14710   \n",
       "1          0.08474           0.07864          0.0869              0.07017   \n",
       "2          0.10960           0.15990          0.1974              0.12790   \n",
       "3          0.14250           0.28390          0.2414              0.10520   \n",
       "4          0.10030           0.13280          0.1980              0.10430   \n",
       "\n",
       "   ...  texture_worst  perimeter_worst  area_worst  smoothness_worst  \\\n",
       "0  ...          17.33           184.60      2019.0            0.1622   \n",
       "1  ...          23.41           158.80      1956.0            0.1238   \n",
       "2  ...          25.53           152.50      1709.0            0.1444   \n",
       "3  ...          26.50            98.87       567.7            0.2098   \n",
       "4  ...          16.67           152.20      1575.0            0.1374   \n",
       "\n",
       "   compactness_worst  concavity_worst  concave points_worst  symmetry_worst  \\\n",
       "0             0.6656           0.7119                0.2654          0.4601   \n",
       "1             0.1866           0.2416                0.1860          0.2750   \n",
       "2             0.4245           0.4504                0.2430          0.3613   \n",
       "3             0.8663           0.6869                0.2575          0.6638   \n",
       "4             0.2050           0.4000                0.1625          0.2364   \n",
       "\n",
       "   fractal_dimension_worst  Unnamed: 32  \n",
       "0                  0.11890          NaN  \n",
       "1                  0.08902          NaN  \n",
       "2                  0.08758          NaN  \n",
       "3                  0.17300          NaN  \n",
       "4                  0.07678          NaN  \n",
       "\n",
       "[5 rows x 33 columns]"
      ]
     },
     "execution_count": 23,
     "metadata": {},
     "output_type": "execute_result"
    }
   ],
   "source": [
    "data_url = 'https://raw.githubusercontent.com/inikoreaackr/2020_Fall_ML/master/breastcancer.csv'\n",
    "df = pd.read_csv(data_url)\n",
    "df.head()           "
   ]
  },
  {
   "cell_type": "markdown",
   "metadata": {},
   "source": [
    "## 2-2-1 Data preprocess"
   ]
  },
  {
   "cell_type": "code",
   "execution_count": 24,
   "metadata": {},
   "outputs": [
    {
     "data": {
      "text/plain": [
       "Index(['diagnosis', 'radius_mean', 'texture_mean', 'perimeter_mean',\n",
       "       'area_mean', 'smoothness_mean', 'compactness_mean', 'concavity_mean',\n",
       "       'concave points_mean', 'symmetry_mean', 'fractal_dimension_mean',\n",
       "       'radius_se', 'texture_se', 'perimeter_se', 'area_se', 'smoothness_se',\n",
       "       'compactness_se', 'concavity_se', 'concave points_se', 'symmetry_se',\n",
       "       'fractal_dimension_se', 'radius_worst', 'texture_worst',\n",
       "       'perimeter_worst', 'area_worst', 'smoothness_worst',\n",
       "       'compactness_worst', 'concavity_worst', 'concave points_worst',\n",
       "       'symmetry_worst', 'fractal_dimension_worst'],\n",
       "      dtype='object')"
      ]
     },
     "execution_count": 24,
     "metadata": {},
     "output_type": "execute_result"
    }
   ],
   "source": [
    "# id 와 Unnamed: 32 column을 삭제한 후 column들의 리스트를 출력합니다.\n",
    "df.drop(columns=['id', 'Unnamed: 32'], inplace=True)\n",
    "df.columns"
   ]
  },
  {
   "cell_type": "code",
   "execution_count": 25,
   "metadata": {},
   "outputs": [
    {
     "data": {
      "text/plain": [
       "diagnosis                  False\n",
       "radius_mean                False\n",
       "texture_mean               False\n",
       "perimeter_mean             False\n",
       "area_mean                  False\n",
       "smoothness_mean            False\n",
       "compactness_mean           False\n",
       "concavity_mean             False\n",
       "concave points_mean        False\n",
       "symmetry_mean              False\n",
       "fractal_dimension_mean     False\n",
       "radius_se                  False\n",
       "texture_se                 False\n",
       "perimeter_se               False\n",
       "area_se                    False\n",
       "smoothness_se              False\n",
       "compactness_se             False\n",
       "concavity_se               False\n",
       "concave points_se          False\n",
       "symmetry_se                False\n",
       "fractal_dimension_se       False\n",
       "radius_worst               False\n",
       "texture_worst              False\n",
       "perimeter_worst            False\n",
       "area_worst                 False\n",
       "smoothness_worst           False\n",
       "compactness_worst          False\n",
       "concavity_worst            False\n",
       "concave points_worst       False\n",
       "symmetry_worst             False\n",
       "fractal_dimension_worst    False\n",
       "dtype: bool"
      ]
     },
     "execution_count": 25,
     "metadata": {},
     "output_type": "execute_result"
    }
   ],
   "source": [
    "# 각 column에 na 값이 있지는 않은지 확인합니다.\n",
    "df.isna().any()"
   ]
  },
  {
   "cell_type": "code",
   "execution_count": 26,
   "metadata": {},
   "outputs": [
    {
     "data": {
      "text/plain": [
       "B    357\n",
       "M    212\n",
       "Name: diagnosis, dtype: int64"
      ]
     },
     "execution_count": 26,
     "metadata": {},
     "output_type": "execute_result"
    }
   ],
   "source": [
    "# label이 어떻게 구성되어있나 봅니다.\n",
    "#B: 악성\n",
    "#M: 양성\n",
    "df['diagnosis'].value_counts()"
   ]
  },
  {
   "cell_type": "code",
   "execution_count": 27,
   "metadata": {},
   "outputs": [
    {
     "name": "stderr",
     "output_type": "stream",
     "text": [
      "/Users/kweon-ohyul/opt/anaconda3/lib/python3.8/site-packages/seaborn/_decorators.py:36: FutureWarning: Pass the following variable as a keyword arg: x. From version 0.12, the only valid positional argument will be `data`, and passing other arguments without an explicit keyword will result in an error or misinterpretation.\n",
      "  warnings.warn(\n"
     ]
    },
    {
     "data": {
      "image/png": "[encoded data removed]",
      "text/plain": [
       "<Figure size 432x288 with 1 Axes>"
      ]
     },
     "metadata": {
      "needs_background": "light"
     },
     "output_type": "display_data"
    }
   ],
   "source": [
    "#label을 시각화 해봅시다\n",
    "import seaborn as sns\n",
    "sns.countplot(df['diagnosis'])\n",
    "plt.show()"
   ]
  },
  {
   "cell_type": "code",
   "execution_count": 28,
   "metadata": {},
   "outputs": [],
   "source": [
    "#label과 feature들을 분리시킵니다\n",
    "#y: 데이터셋의 label(or class)\n",
    "y = df['diagnosis']\n",
    "#X: 데이터 셋의 feature들\n",
    "X = df.drop(columns=['diagnosis'])"
   ]
  },
  {
   "cell_type": "code",
   "execution_count": 29,
   "metadata": {},
   "outputs": [],
   "source": [
    "#train 데이터= X_train(feature들), y_train(class)\n",
    "#test 데이터 = X_test, y_test\n",
    "X_train, X_test, y_train, y_test = train_test_split(X, y, test_size=0.3, random_state=42, shuffle=True)"
   ]
  },
  {
   "cell_type": "markdown",
   "metadata": {},
   "source": [
    "데이터가 준비가 되었으니 이제 mlpclassifier을 훈련시켜보도록 합시다."
   ]
  },
  {
   "cell_type": "code",
   "execution_count": 30,
   "metadata": {},
   "outputs": [
    {
     "data": {
      "text/plain": [
       "MLPClassifier(max_iter=1000, random_state=42)"
      ]
     },
     "execution_count": 30,
     "metadata": {},
     "output_type": "execute_result"
    }
   ],
   "source": [
    "mlp = MLPClassifier(hidden_layer_sizes=(100,), max_iter=1000, random_state=42)\n",
    "mlp.fit(X_train, y_train)"
   ]
  },
  {
   "cell_type": "code",
   "execution_count": 31,
   "metadata": {},
   "outputs": [
    {
     "name": "stdout",
     "output_type": "stream",
     "text": [
      "mlp accuracy:  0.9649122807017544\n"
     ]
    }
   ],
   "source": [
    "print('mlp accuracy: ', mlp.score(X_test, y_test))"
   ]
  },
  {
   "cell_type": "code",
   "execution_count": 32,
   "metadata": {},
   "outputs": [
    {
     "data": {
      "text/plain": [
       "<sklearn.metrics._plot.confusion_matrix.ConfusionMatrixDisplay at 0x7fbd33fb17c0>"
      ]
     },
     "execution_count": 32,
     "metadata": {},
     "output_type": "execute_result"
    },
    {
     "data": {
      "image/png": "[encoded data removed]",
      "text/plain": [
       "<Figure size 432x288 with 2 Axes>"
      ]
     },
     "metadata": {
      "needs_background": "light"
     },
     "output_type": "display_data"
    }
   ],
   "source": [
    "# plot confusion matrix\n",
    "from sklearn.metrics import plot_confusion_matrix\n",
    "\n",
    "plot_confusion_matrix(mlp, X_test, y_test, normalize=None, values_format='d')"
   ]
  },
  {
   "cell_type": "markdown",
   "metadata": {},
   "source": [
    "## 2-2-2 Cross Validation (CV)\n",
    "\n",
    "교차 검증이란 쉽게 생각하면 본고사를 치르기 전 모의고사를 여러 번 보는 것입니다.\n",
    "\n",
    "본고사는 테스트 데이터 세트에 대한 마지막 평가로 이해할 수 있고 모의고사는 교차 검증에서 많은 학습과 검증 세트에서 알고리즘 학습과 평가를 수행하는 것입니다.\n",
    "\n",
    "\n",
    "교차검증이 왜 필요한가?\n",
    "\n",
    "\n",
    "*  과적합(overfitting)을 피하면서 신뢰성있는 모델평가를 진행하기 위함.\n",
    "*   일반화  성능을  확인하기  위해  훈련  세트와  테스트  세트로  한번  나누는  것보다 더  안정적이고  뛰어난  통계적  평가  방법\n",
    "\n",
    "\n",
    "![](https://scikit-learn.org/0.24/_images/grid_search_workflow.png)"
   ]
  },
  {
   "cell_type": "markdown",
   "metadata": {},
   "source": [
    "## k-fold cross validation\n",
    "\n",
    "1.   전체 데이터셋을 training /test set으로 분리\n",
    "2.   training 데이터를 임의의 K개의 fold로 나눔\n",
    "3.   각 split마다 돌아가면서 한개의 fold데이터셋을 validation data로 지정\n",
    "4.   이외의 data는 train 데이터로 모델을 훈련시키는데 사용\n",
    "5.   각 split마다 validation 데이터를 사용하여 모델을 검증\n",
    "6.   각 split의 검증된 결과들의 평균을 측정\n",
    "\n",
    "\n",
    "![Screen Shot.png](data:image/png;base64,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)"
   ]
  },
  {
   "cell_type": "markdown",
   "metadata": {},
   "source": [
    "\n",
    "https://scikit-learn.org/stable/modules/generated/sklearn.model_selection.cross_validate.html#sklearn.model_selection.cross_validate\n",
    "\n",
    "scikit learn에서 제공해주는 KFold를 사용하여 kfold시 데이터가 어떻게 split되는지를 실험해봅시다. \n",
    "5fold를 실행해보도록 하겠습니다."
   ]
  },
  {
   "cell_type": "code",
   "execution_count": 33,
   "metadata": {},
   "outputs": [
    {
     "name": "stdout",
     "output_type": "stream",
     "text": [
      "\n",
      "===교차 검증 : 1===\n",
      "B    194\n",
      "M    124\n",
      "Name: diagnosis, dtype: int64\n",
      "\n",
      "===교차 검증 : 2===\n",
      "B    197\n",
      "M    121\n",
      "Name: diagnosis, dtype: int64\n",
      "\n",
      "===교차 검증 : 3===\n",
      "B    200\n",
      "M    118\n",
      "Name: diagnosis, dtype: int64\n",
      "\n",
      "===교차 검증 : 4===\n",
      "B    207\n",
      "M    112\n",
      "Name: diagnosis, dtype: int64\n",
      "\n",
      "===교차 검증 : 5===\n",
      "B    198\n",
      "M    121\n",
      "Name: diagnosis, dtype: int64\n"
     ]
    }
   ],
   "source": [
    "n_iter =0\n",
    "# 데이터셋을 train과 validation으로 나누어주는 KFold를 알아봅니다.\n",
    "from sklearn.model_selection import KFold\n",
    "\n",
    " #train/validation set을 n_splits번 만큼 진행해줌.\n",
    "kf = KFold(n_splits=5)\n",
    "\n",
    "#kf.split(x_train)은 x_train데이터 셋을 K번\n",
    "#train/validation set로 분리시킴\n",
    "for train_index, val_index in kf.split(X_train):\n",
    "  n_iter+=1\n",
    "  #feature data 나눈것\n",
    "  X_train_cv, X_val_cv = X_train.iloc[train_index], X_train.iloc[val_index]\n",
    "  #label(class) data 나눈것\n",
    "  y_train_cv, y_val_cv = y_train.iloc[train_index], y_train.iloc[val_index]\n",
    "  print('\\n===교차 검증 : {0}==='.format(n_iter))\n",
    "  #data가 어떻게 각 fold마다 나뉘는지 출력\n",
    "  print(y_train_cv.value_counts())"
   ]
  },
  {
   "cell_type": "markdown",
   "metadata": {},
   "source": [
    "각 fold마다 데이터가 나뉘는 것을 볼 수 있습니다. 이제 k-fold cross validation을 간단하게 구현할 수 있는 sklearn이 cross_validate를 사용해서 5-fold cross validation을 해보도록 합시다. \n",
    "파라미터 중 cv는 fold의 갯수라고 생각하시면 됩니다."
   ]
  },
  {
   "cell_type": "code",
   "execution_count": 34,
   "metadata": {},
   "outputs": [],
   "source": [
    "# 5-fold cross validation\n",
    "from sklearn.model_selection import cross_validate\n",
    "mlp = MLPClassifier(hidden_layer_sizes=(100,), max_iter=1000, random_state=42)\n",
    "cv_results = cross_validate(mlp, X_train, y_train, cv=5)"
   ]
  },
  {
   "cell_type": "code",
   "execution_count": 35,
   "metadata": {},
   "outputs": [
    {
     "data": {
      "text/plain": [
       "array([0.9375    , 0.8625    , 0.95      , 0.93670886, 0.89873418])"
      ]
     },
     "execution_count": 35,
     "metadata": {},
     "output_type": "execute_result"
    }
   ],
   "source": [
    "#각 fold마다의 validation score을 출력해봅시다.\n",
    "cv_results['test_score']"
   ]
  },
  {
   "cell_type": "code",
   "execution_count": 36,
   "metadata": {},
   "outputs": [
    {
     "name": "stdout",
     "output_type": "stream",
     "text": [
      "0.9170886075949367\n"
     ]
    }
   ],
   "source": [
    "# 각 fold마다의 validation accuracy의 평균을 내봅시다. \n",
    "print(np.mean(cv_results['test_score']))"
   ]
  },
  {
   "cell_type": "markdown",
   "metadata": {},
   "source": [
    "## 2-2-3 Gridsearch cross validation\n",
    "\n",
    "이제 모델의 최적의 하이퍼파라미터를 쉽게 찾을 수 있게 도와주는 gridsearch cv를 사용하여 최적의 하이퍼파라미터를 찾아보도록 하겠습니다.\n",
    "\n",
    "\n",
    "![](https://img1.daumcdn.net/thumb/R1280x0/?scode=mtistory2&fname=https%3A%2F%2Fblog.kakaocdn.net%2Fdn%2Fduzlch%2FbtqQZwOb3Jr%2FKVP1kpnWpIytGZLK4k10Nk%2Fimg.png)\n",
    "\n",
    "\n",
    "https://scikit-learn.org/stable/modules/generated/sklearn.model_selection.GridSearchCV.html"
   ]
  },
  {
   "cell_type": "code",
   "execution_count": 37,
   "metadata": {},
   "outputs": [],
   "source": [
    "#import gridsearchcv\n",
    "from sklearn.model_selection import GridSearchCV"
   ]
  },
  {
   "cell_type": "code",
   "execution_count": 38,
   "metadata": {},
   "outputs": [],
   "source": [
    "#test하고 싶은 파라미터들을 설정합니다\n",
    "parameter_space = {\n",
    "    'hidden_layer_sizes': [(3,3), (10,),(100,)],\n",
    "    'activation': ['identity', 'logistic','tanh', 'relu'],\n",
    "    'solver': ['lbfgs','sgd', 'adam'],\n",
    "    'learning_rate': ['constant','adaptive'],\n",
    "}"
   ]
  },
  {
   "cell_type": "code",
   "execution_count": 39,
   "metadata": {},
   "outputs": [
    {
     "data": {
      "text/plain": [
       "GridSearchCV(cv=10, estimator=MLPClassifier(max_iter=1000, random_state=42),\n",
       "             n_jobs=-1,\n",
       "             param_grid={'activation': ['identity', 'logistic', 'tanh', 'relu'],\n",
       "                         'hidden_layer_sizes': [(3, 3), (10,), (100,)],\n",
       "                         'learning_rate': ['constant', 'adaptive'],\n",
       "                         'solver': ['lbfgs', 'sgd', 'adam']})"
      ]
     },
     "execution_count": 39,
     "metadata": {},
     "output_type": "execute_result"
    }
   ],
   "source": [
    "#parameter space의 파라미터들에 대하여 10-cross validation을 하여 최적의 파라미터를 찾습니다.\n",
    "#n_jobs=-1 , using all the CPU cores available.\n",
    "clf_cv = GridSearchCV(MLPClassifier(random_state=42, max_iter=1000), parameter_space, n_jobs=-1, cv=10)\n",
    "clf_cv.fit(X_train, y_train)"
   ]
  },
  {
   "cell_type": "code",
   "execution_count": 40,
   "metadata": {},
   "outputs": [
    {
     "name": "stdout",
     "output_type": "stream",
     "text": [
      "Best parameters found:\n",
      " {'activation': 'logistic', 'hidden_layer_sizes': (100,), 'learning_rate': 'constant', 'solver': 'adam'}\n",
      "Accuracy CV: 0.9345512820512821\n"
     ]
    }
   ],
   "source": [
    "#최고의 성능을 내는 파라미터를 출력합니다.\n",
    "print('Best parameters found:\\n', clf_cv.best_params_)\n",
    "#cross validation의 best score을 출력합니다.\n",
    "print(\"Accuracy CV:\",clf_cv.best_score_)"
   ]
  },
  {
   "cell_type": "code",
   "execution_count": 41,
   "metadata": {},
   "outputs": [
    {
     "data": {
      "text/plain": [
       "MLPClassifier(activation='logistic', max_iter=5000, random_state=1)"
      ]
     },
     "execution_count": 41,
     "metadata": {},
     "output_type": "execute_result"
    }
   ],
   "source": [
    "#최고의 하이퍼파라미터를 저장.\n",
    "best_config_gs = clf_cv.best_params_\n",
    "mlp_best=MLPClassifier(random_state=1, max_iter=5000, **best_config_gs) #새로 만든 mlpclassifier에 파라미터로 입력합니다.\n",
    "#train 데이터로 훈련을 시킨 후\n",
    "mlp_best.fit(X_train,y_train)"
   ]
  },
  {
   "cell_type": "markdown",
   "metadata": {},
   "source": [
    "Confusion matrix를 출력해봅니다."
   ]
  },
  {
   "cell_type": "code",
   "execution_count": 42,
   "metadata": {},
   "outputs": [
    {
     "name": "stdout",
     "output_type": "stream",
     "text": [
      "[[245   4]\n",
      " [ 22 127]]\n",
      "              precision    recall  f1-score   support\n",
      "\n",
      "           B       0.92      0.98      0.95       249\n",
      "           M       0.97      0.85      0.91       149\n",
      "\n",
      "    accuracy                           0.93       398\n",
      "   macro avg       0.94      0.92      0.93       398\n",
      "weighted avg       0.94      0.93      0.93       398\n",
      "\n"
     ]
    }
   ],
   "source": [
    "from sklearn.metrics import classification_report,confusion_matrix\n",
    "\n",
    "predict_train = mlp_best.predict(X_train)\n",
    "predict_test = mlp_best.predict(X_test)\n",
    "print(confusion_matrix(y_train,predict_train))\n",
    "print(classification_report(y_train,predict_train))"
   ]
  },
  {
   "cell_type": "code",
   "execution_count": 43,
   "metadata": {},
   "outputs": [
    {
     "name": "stdout",
     "output_type": "stream",
     "text": [
      "[[108   0]\n",
      " [  6  57]]\n",
      "              precision    recall  f1-score   support\n",
      "\n",
      "           B       0.95      1.00      0.97       108\n",
      "           M       1.00      0.90      0.95        63\n",
      "\n",
      "    accuracy                           0.96       171\n",
      "   macro avg       0.97      0.95      0.96       171\n",
      "weighted avg       0.97      0.96      0.96       171\n",
      "\n"
     ]
    }
   ],
   "source": [
    "print(confusion_matrix(y_test,predict_test))\n",
    "print(classification_report(y_test,predict_test))"
   ]
  },
  {
   "cell_type": "markdown",
   "metadata": {},
   "source": [
    "### plot confusion matrix\n",
    "from sklearn.metrics import plot_confusion_matrix\n",
    "\n",
    "plot_confusion_matrix(mlp_best, X_test, y_test, normalize=None, values_format='d')"
   ]
  },
  {
   "cell_type": "markdown",
   "metadata": {},
   "source": [
    "# 실습 과제(총 30점)\n",
    "\n",
    "실습 4차시 과제는 실습 3차시에서 사용한 abalone dataset을 사용하여 MLPClassifier을 훈련시킬 것입니다.\n",
    "\n",
    "1. abalone dataset을 preprocessing하고, train, test dataset으로 나누세요.(3차시 코드를 가져와도 상관없습니다.) (1점)\n",
    "2. scikit-learn의 MLPClassifier을 사용하여 어떠한 모델 파라미터도 조정하지 않은 baseline ```MLPClassifier``` 모델을 생성하고 훈련시켜 테스트 데이터에 대한 정확도를 출력합니다. (1점)\n",
    "3. 두번째 MLPClassifier 모델을 생성합니다. 이번에는 다큐멘테이션을 읽고 모델 파라미터를 조정합니다. 조정하는 파라미터는 ```hidden_layer_sizes```, ```activation```, ```learning_rate_init```, ```max_iter``` 입니다. 네가지 파라미터를 모두 조정하여도 되고 이 중 선택하여 조정하여도 됩니다. 이 모델이 baseline 모델보다 테스트 데이터에 대해 정확도가 높게 나오도록 파라미터를 조정해야 합니다. 두번째 모델에 대한 정확도 또한 출력합니다.(8점) \n",
    "\n",
    "MLPClassifer document: https://scikit-learn.org/stable/modules/generated/sklearn.neural_network.MLPClassifier.html\n",
    "\n",
    "4. GridseachCV를 사용하여 best_params_를 찾고, 출력합니다.(위의 실습에서 사용한 parameter_space를 사용하여도, 본인이 설정하여 실험하여도 상관 없습니다.) (10점)\n",
    "5. 4번에서 찾은 best parameter을 사용하여 새로운 MLPClassifier을 훈련시키고, confusion matrix를 출력합니다.(10점)"
   ]
  },
  {
   "cell_type": "code",
   "execution_count": 8,
   "metadata": {},
   "outputs": [],
   "source": [
    "import pandas as pd\n",
    "# import abalone data\n",
    "url = \"https://archive.ics.uci.edu/ml/machine-learning-databases/abalone/abalone.data\"\n",
    "df = pd.read_csv(url, header = None)\n",
    "\n",
    "df.columns = [\"gender\", \"length\", \"diameter\", \"height\", \"whole_weight\", \"shucked_weight\", \"viscera_weight\", \"shell_weight\", \"rings\"]\n",
    "\n",
    "#onehot_df라는 새로운 데이터프레임을 만들어서, get_dummies를 사용하여 prefix='gender'로 설정하여 one hot encoding을 실행해봅시다.\n",
    "onehot_df = pd.get_dummies(df.gender, prefix=\"gender\")\n",
    "\n",
    "# 데이터 병합\n",
    "df = pd.concat([onehot_df, df], axis=1).drop([\"gender\"], axis=1)\n",
    "\n",
    "# discretize label\n",
    "disc_label = pd.cut(df.rings, bins=[0, 9, 30], labels=[0, 1])\n",
    "\n",
    "# 변환이 안된 rings column을 drop\n",
    "df = df.drop([\"rings\"], axis=1)\n",
    "#original df와 disc_label과 병합\n",
    "df = pd.concat([df, disc_label.to_frame()], axis=1)\n",
    "\n",
    "# split data to X and y\n",
    "y = df[[\"rings\"]]   #label\n",
    "X = df.drop([\"rings\"], axis=1)\n",
    "\n",
    "# split train, validation and test data\n",
    "from sklearn.model_selection import train_test_split\n",
    "\n",
    "#train과 test split 80:20\n",
    "X_train, X_test, y_train, y_test = train_test_split(X, y, test_size=0.2, random_state=42)\n",
    "\n",
    "#train을 train과 validation으로 split 75:25\n",
    "X_train, X_val, y_train, y_val = train_test_split(X_train, y_train, test_size=0.25, random_state=42) # 0.8 * 0.25 = 0.2"
   ]
  },
  {
   "cell_type": "code",
   "execution_count": 11,
   "metadata": {},
   "outputs": [
    {
     "name": "stderr",
     "output_type": "stream",
     "text": [
      "/Users/kweon-ohyul/opt/anaconda3/lib/python3.8/site-packages/sklearn/utils/validation.py:72: DataConversionWarning: A column-vector y was passed when a 1d array was expected. Please change the shape of y to (n_samples, ), for example using ravel().\n",
      "  return f(**kwargs)\n"
     ]
    },
    {
     "name": "stdout",
     "output_type": "stream",
     "text": [
      "0.7870813397129187\n"
     ]
    }
   ],
   "source": [
    "#data preprocessing\n",
    "from sklearn.neural_network import MLPClassifier\n",
    "\n",
    "mlp_baseline = MLPClassifier( )\n",
    "\n",
    "mlp_baseline.fit(X_train, y_train)\n",
    "\n",
    "print(mlp_baseline.score(X_test, y_test))"
   ]
  },
  {
   "cell_type": "code",
   "execution_count": 15,
   "metadata": {},
   "outputs": [
    {
     "name": "stderr",
     "output_type": "stream",
     "text": [
      "/Users/kweon-ohyul/opt/anaconda3/lib/python3.8/site-packages/sklearn/utils/validation.py:72: DataConversionWarning: A column-vector y was passed when a 1d array was expected. Please change the shape of y to (n_samples, ), for example using ravel().\n",
      "  return f(**kwargs)\n"
     ]
    },
    {
     "name": "stdout",
     "output_type": "stream",
     "text": [
      "0.7918660287081339\n"
     ]
    }
   ],
   "source": [
    "# split train, validation and test data\n",
    "from sklearn.model_selection import train_test_split\n",
    "\n",
    "#train과 test split 80:20\n",
    "X_train, X_test, y_train, y_test = train_test_split(X, y, test_size=0.2, random_state=42)\n",
    "\n",
    "mlp_para = MLPClassifier(hidden_layer_sizes = 30, activation = 'tanh', learning_rate_init= 0.1)\n",
    "\n",
    "mlp_para.fit(X_train, y_train)\n",
    "\n",
    "print(mlp_para.score(X_test, y_test))"
   ]
  },
  {
   "cell_type": "code",
   "execution_count": 16,
   "metadata": {},
   "outputs": [
    {
     "name": "stderr",
     "output_type": "stream",
     "text": [
      "/Users/kweon-ohyul/opt/anaconda3/lib/python3.8/site-packages/sklearn/utils/validation.py:72: DataConversionWarning: A column-vector y was passed when a 1d array was expected. Please change the shape of y to (n_samples, ), for example using ravel().\n",
      "  return f(**kwargs)\n"
     ]
    },
    {
     "name": "stdout",
     "output_type": "stream",
     "text": [
      "Best parameters found:\n",
      " {'activation': 'logistic', 'hidden_layer_sizes': (10,), 'learning_rate': 'constant', 'solver': 'lbfgs'}\n",
      "Accuracy CV: 0.8021601572973458\n"
     ]
    }
   ],
   "source": [
    "from sklearn.model_selection import GridSearchCV\n",
    "\n",
    "parameter_space = {\n",
    "    'hidden_layer_sizes': [(3,3), (10,),(100,)],\n",
    "    'activation': ['identity', 'logistic','tanh', 'relu'],\n",
    "    'solver': ['lbfgs','sgd', 'adam'],\n",
    "    'learning_rate': ['constant','adaptive'],\n",
    "}\n",
    "\n",
    "clf_cv = GridSearchCV(MLPClassifier(random_state=42, max_iter=1000), parameter_space, n_jobs=-1, cv=10)\n",
    "clf_cv.fit(X_train, y_train)\n",
    "\n",
    "#최고의 성능을 내는 파라미터를 출력합니다.\n",
    "print('Best parameters found:\\n', clf_cv.best_params_)\n",
    "#cross validation의 best score을 출력합니다.\n",
    "print(\"Accuracy CV:\",clf_cv.best_score_)\n"
   ]
  },
  {
   "cell_type": "code",
   "execution_count": 20,
   "metadata": {},
   "outputs": [
    {
     "name": "stderr",
     "output_type": "stream",
     "text": [
      "/Users/kweon-ohyul/opt/anaconda3/lib/python3.8/site-packages/sklearn/utils/validation.py:72: DataConversionWarning: A column-vector y was passed when a 1d array was expected. Please change the shape of y to (n_samples, ), for example using ravel().\n",
      "  return f(**kwargs)\n"
     ]
    },
    {
     "data": {
      "text/plain": [
       "<sklearn.metrics._plot.confusion_matrix.ConfusionMatrixDisplay at 0x7fb2a4b243d0>"
      ]
     },
     "execution_count": 20,
     "metadata": {},
     "output_type": "execute_result"
    },
    {
     "data": {
      "image/png": "[encoded data removed]",
      "text/plain": [
       "<Figure size 432x288 with 2 Axes>"
      ]
     },
     "metadata": {
      "needs_background": "light"
     },
     "output_type": "display_data"
    }
   ],
   "source": [
    "# plot confusion matrix\n",
    "from sklearn.metrics import plot_confusion_matrix\n",
    "\n",
    "#최고의 하이퍼파라미터를 저장.\n",
    "best_config_gs = clf_cv.best_params_\n",
    "\n",
    "mlp_best= MLPClassifier(random_state=1, max_iter=5000, **best_config_gs) #새로 만든 mlpclassifier에 파라미터로 입력합니다.\n",
    "#train 데이터로 훈련을 시킨 후\n",
    "mlp_best.fit(X_train,y_train)\n",
    "\n",
    "plot_confusion_matrix(mlp_best, X_test, y_test, normalize=None, values_format='d')"
   ]
  },
  {
   "cell_type": "code",
   "execution_count": null,
   "metadata": {},
   "outputs": [],
   "source": []
  }
 ],
 "metadata": {
  "colab": {
   "collapsed_sections": [],
   "name": "실습 4차시 _perceptron mlp의 사본.ipynb",
   "provenance": []
  },
  "kernelspec": {
   "display_name": "Python 3 (ipykernel)",
   "language": "python",
   "name": "python3"
  },
  "language_info": {
   "codemirror_mode": {
    "name": "ipython",
    "version": 3
   },
   "file_extension": ".py",
   "mimetype": "text/x-python",
   "name": "python",
   "nbconvert_exporter": "python",
   "pygments_lexer": "ipython3",
   "version": "3.9.7"
  }
 },
 "nbformat": 4,
 "nbformat_minor": 1
}
